{
  "nbformat": 4,
  "nbformat_minor": 0,
  "metadata": {
    "colab": {
      "provenance": [],
      "authorship_tag": "ABX9TyOLmA4466mo94gUovnJs3ie",
      "include_colab_link": true
    },
    "kernelspec": {
      "name": "python3",
      "display_name": "Python 3"
    },
    "language_info": {
      "name": "python"
    }
  },
  "cells": [
    {
      "cell_type": "markdown",
      "metadata": {
        "id": "view-in-github",
        "colab_type": "text"
      },
      "source": [
        "<a href=\"https://colab.research.google.com/github/ShubhamLolge/Applications-of-ML/blob/main/AML_part_2.ipynb\" target=\"_parent\"><img src=\"https://colab.research.google.com/assets/colab-badge.svg\" alt=\"Open In Colab\"/></a>"
      ]
    },
    {
      "cell_type": "code",
      "source": [
        "# Mount Google Drive if the dataset is stored there\n",
        "from google.colab import drive\n",
        "drive.mount('/content/drive')\n",
        "\n",
        "# Import necessary libraries\n",
        "import os\n",
        "import pandas as pd\n",
        "import nltk\n",
        "from nltk.corpus import stopwords\n",
        "from nltk.tokenize import word_tokenize\n",
        "from nltk.stem import PorterStemmer\n",
        "from sklearn.feature_extraction.text import CountVectorizer, TfidfVectorizer\n",
        "# Import train_test_split function\n",
        "from sklearn.model_selection import train_test_split\n",
        "\n",
        "# Download NLTK resources\n",
        "nltk.download('punkt')\n",
        "nltk.download('stopwords')"
      ],
      "metadata": {
        "colab": {
          "base_uri": "https://localhost:8080/"
        },
        "id": "BsbkjeACp7XK",
        "outputId": "52da6e28-7036-4d2c-95c3-ce2492f95e52"
      },
      "execution_count": 24,
      "outputs": [
        {
          "output_type": "stream",
          "name": "stdout",
          "text": [
            "Drive already mounted at /content/drive; to attempt to forcibly remount, call drive.mount(\"/content/drive\", force_remount=True).\n"
          ]
        },
        {
          "output_type": "stream",
          "name": "stderr",
          "text": [
            "[nltk_data] Downloading package punkt to /root/nltk_data...\n",
            "[nltk_data]   Package punkt is already up-to-date!\n",
            "[nltk_data] Downloading package stopwords to /root/nltk_data...\n",
            "[nltk_data]   Package stopwords is already up-to-date!\n"
          ]
        },
        {
          "output_type": "execute_result",
          "data": {
            "text/plain": [
              "True"
            ]
          },
          "metadata": {},
          "execution_count": 24
        }
      ]
    },
    {
      "cell_type": "code",
      "execution_count": 25,
      "metadata": {
        "colab": {
          "base_uri": "https://localhost:8080/"
        },
        "id": "g6oAyUgOo5gB",
        "outputId": "04bda309-c114-4124-c4ec-0a45057319a3"
      },
      "outputs": [
        {
          "output_type": "stream",
          "name": "stdout",
          "text": [
            "Data loaded, preprocessed, and split into training and testing sets successfully.\n"
          ]
        }
      ],
      "source": [
        "# Define the path to the dataset folder\n",
        "# data_path = \"/content/drive/MyDrive/datasets_coursework1/bbc\"\n",
        "\n",
        "# Read the text files from each category folder and preprocess the data\n",
        "# data = []\n",
        "# categories = ['tech', 'business', 'sport', 'politics', 'entertainment']\n",
        "# print(data_path)\n",
        "# for category in categories:\n",
        "#     category_path = os.path.join(data_path, category)\n",
        "\n",
        "#     files = os.listdir(category_path)\n",
        "#     for file in files:\n",
        "#         with open(os.path.join(category_path, file), 'r', encoding='utf-8') as f:\n",
        "#             text = f.read()\n",
        "#             preprocessed_text = preprocess_text(text)\n",
        "#             data.append({'text': preprocessed_text, 'category': category})\n",
        "\n",
        "data_path = \"/content/drive/MyDrive/datasets_coursework1/bbc\"\n",
        "\n",
        "data = []\n",
        "categories = ['tech', 'business', 'sport', 'politics', 'entertainment']\n",
        "for category in categories:\n",
        "    category_path = os.path.join(data_path, category)\n",
        "    files = os.listdir(category_path)\n",
        "    for file in files:\n",
        "        with open(os.path.join(category_path, file), 'r', encoding='latin-1') as f:\n",
        "            text = f.read()\n",
        "            preprocessed_text = preprocess_text(text)\n",
        "            data.append({'text': preprocessed_text, 'category': category})\n",
        "\n",
        "# Create a DataFrame from the preprocessed data\n",
        "df = pd.DataFrame(data)\n",
        "\n",
        "# Split the dataset into training and testing sets\n",
        "train_df, test_df = train_test_split(df, test_size=0.2, random_state=42)\n",
        "\n",
        "print(\"Data loaded, preprocessed, and split into training and testing sets successfully.\")"
      ]
    },
    {
      "cell_type": "code",
      "source": [
        "# Text Preprocessing\n",
        "\n",
        "# Tokenization using NLTK\n",
        "from nltk.tokenize import word_tokenize\n",
        "\n",
        "# Remove stop words using NLTK\n",
        "from nltk.corpus import stopwords\n",
        "stop_words = set(stopwords.words('english'))\n",
        "\n",
        "# Apply stemming using NLTK\n",
        "from nltk.stem import PorterStemmer\n",
        "stemmer = PorterStemmer()\n",
        "\n",
        "# Preprocess text function\n",
        "def preprocess_text(text):\n",
        "    # Convert text to lowercase\n",
        "    text = text.lower()\n",
        "    # Tokenization\n",
        "    tokens = word_tokenize(text)\n",
        "    # Remove stop words\n",
        "    tokens = [token for token in tokens if token not in stop_words]\n",
        "    # Apply stemming\n",
        "    tokens = [stemmer.stem(token) for token in tokens]\n",
        "    # Join tokens back into a string\n",
        "    preprocessed_text = ' '.join(tokens)\n",
        "    return preprocessed_text\n",
        "\n",
        "# Apply preprocessing to the entire DataFrame\n",
        "df['preprocessed_text'] = df['text'].apply(preprocess_text)\n"
      ],
      "metadata": {
        "id": "fBag0L4zV0bj"
      },
      "execution_count": 26,
      "outputs": []
    },
    {
      "cell_type": "code",
      "source": [
        "# Feature Extraction\n",
        "\n",
        "# Word Frequency Feature using CountVectorizer\n",
        "from sklearn.feature_extraction.text import CountVectorizer\n",
        "\n",
        "# Initialize CountVectorizer\n",
        "count_vectorizer = CountVectorizer()\n",
        "\n",
        "# Fit and transform the preprocessed text data\n",
        "X_count = count_vectorizer.fit_transform(df['preprocessed_text'])\n",
        "\n",
        "# TF-IDF Feature using TfidfVectorizer\n",
        "from sklearn.feature_extraction.text import TfidfVectorizer\n",
        "\n",
        "# Initialize TfidfVectorizer\n",
        "tfidf_vectorizer = TfidfVectorizer()\n",
        "\n",
        "# Fit and transform the preprocessed text data\n",
        "X_tfidf = tfidf_vectorizer.fit_transform(df['preprocessed_text'])\n"
      ],
      "metadata": {
        "id": "XT8rRFN_V8RW"
      },
      "execution_count": 27,
      "outputs": []
    },
    {
      "cell_type": "code",
      "source": [
        "# Feature Selection\n",
        "\n",
        "# Chi-Square Test for Feature Selection\n",
        "from sklearn.feature_selection import chi2\n",
        "\n",
        "# Compute chi-squared statistics for feature selection\n",
        "chi2_stat, p_values = chi2(X_count, df['category'])\n",
        "\n",
        "# Print the chi-squared statistics\n",
        "print(\"Chi-squared statistics for feature selection:\")\n",
        "print(chi2_stat)\n",
        "\n",
        "# Mutual Information for Feature Selection\n",
        "from sklearn.feature_selection import mutual_info_classif\n",
        "\n",
        "# Compute mutual information for feature selection\n",
        "mutual_info = mutual_info_classif(X_count, df['category'])\n",
        "\n",
        "# Print the mutual information scores\n",
        "print(\"Mutual information scores for feature selection:\")\n",
        "print(mutual_info)"
      ],
      "metadata": {
        "colab": {
          "base_uri": "https://localhost:8080/"
        },
        "id": "anxgRHEkXFbK",
        "outputId": "d8d9f514-bab1-4406-ed42-238fa48a1638"
      },
      "execution_count": 28,
      "outputs": [
        {
          "output_type": "stream",
          "name": "stdout",
          "text": [
            "Chi-squared statistics for feature selection:\n",
            "[  2.34543876 178.9958664    4.33573141 ...   4.7642487   13.41682975\n",
            "   9.52849741]\n",
            "Mutual information scores for feature selection:\n",
            "[0.0008007  0.04241952 0.00075299 ... 0.00078775 0.00132373 0.00157647]\n"
          ]
        }
      ]
    },
    {
      "cell_type": "code",
      "source": [
        "# Model Selection and Training\n",
        "\n",
        "# # Choose a classifier (e.g., Naive Bayes)\n",
        "# from sklearn.naive_bayes import MultinomialNB\n",
        "\n",
        "# # Initialize the classifier\n",
        "# clf = MultinomialNB()\n",
        "\n",
        "# # Train the classifier on the training set\n",
        "# clf.fit(X_tfidf, train_df['category'])\n",
        "\n",
        "# Split the dataset into training and testing sets before any preprocessing\n",
        "train_df, test_df = train_test_split(df, test_size=0.2, random_state=42)\n",
        "\n",
        "# Preprocess text and extract features from the training set\n",
        "train_df['preprocessed_text'] = train_df['text'].apply(preprocess_text)\n",
        "X_train_tfidf = tfidf_vectorizer.fit_transform(train_df['preprocessed_text'])\n",
        "\n",
        "# Train the classifier on the training set\n",
        "clf.fit(X_train_tfidf, train_df['category'])\n"
      ],
      "metadata": {
        "colab": {
          "base_uri": "https://localhost:8080/",
          "height": 75
        },
        "id": "ZetGT6XvYKhn",
        "outputId": "565218ee-ad8d-41fa-fb7c-ae8a1571bf37"
      },
      "execution_count": 30,
      "outputs": [
        {
          "output_type": "execute_result",
          "data": {
            "text/plain": [
              "MultinomialNB()"
            ],
            "text/html": [
              "<style>#sk-container-id-1 {color: black;background-color: white;}#sk-container-id-1 pre{padding: 0;}#sk-container-id-1 div.sk-toggleable {background-color: white;}#sk-container-id-1 label.sk-toggleable__label {cursor: pointer;display: block;width: 100%;margin-bottom: 0;padding: 0.3em;box-sizing: border-box;text-align: center;}#sk-container-id-1 label.sk-toggleable__label-arrow:before {content: \"▸\";float: left;margin-right: 0.25em;color: #696969;}#sk-container-id-1 label.sk-toggleable__label-arrow:hover:before {color: black;}#sk-container-id-1 div.sk-estimator:hover label.sk-toggleable__label-arrow:before {color: black;}#sk-container-id-1 div.sk-toggleable__content {max-height: 0;max-width: 0;overflow: hidden;text-align: left;background-color: #f0f8ff;}#sk-container-id-1 div.sk-toggleable__content pre {margin: 0.2em;color: black;border-radius: 0.25em;background-color: #f0f8ff;}#sk-container-id-1 input.sk-toggleable__control:checked~div.sk-toggleable__content {max-height: 200px;max-width: 100%;overflow: auto;}#sk-container-id-1 input.sk-toggleable__control:checked~label.sk-toggleable__label-arrow:before {content: \"▾\";}#sk-container-id-1 div.sk-estimator input.sk-toggleable__control:checked~label.sk-toggleable__label {background-color: #d4ebff;}#sk-container-id-1 div.sk-label input.sk-toggleable__control:checked~label.sk-toggleable__label {background-color: #d4ebff;}#sk-container-id-1 input.sk-hidden--visually {border: 0;clip: rect(1px 1px 1px 1px);clip: rect(1px, 1px, 1px, 1px);height: 1px;margin: -1px;overflow: hidden;padding: 0;position: absolute;width: 1px;}#sk-container-id-1 div.sk-estimator {font-family: monospace;background-color: #f0f8ff;border: 1px dotted black;border-radius: 0.25em;box-sizing: border-box;margin-bottom: 0.5em;}#sk-container-id-1 div.sk-estimator:hover {background-color: #d4ebff;}#sk-container-id-1 div.sk-parallel-item::after {content: \"\";width: 100%;border-bottom: 1px solid gray;flex-grow: 1;}#sk-container-id-1 div.sk-label:hover label.sk-toggleable__label {background-color: #d4ebff;}#sk-container-id-1 div.sk-serial::before {content: \"\";position: absolute;border-left: 1px solid gray;box-sizing: border-box;top: 0;bottom: 0;left: 50%;z-index: 0;}#sk-container-id-1 div.sk-serial {display: flex;flex-direction: column;align-items: center;background-color: white;padding-right: 0.2em;padding-left: 0.2em;position: relative;}#sk-container-id-1 div.sk-item {position: relative;z-index: 1;}#sk-container-id-1 div.sk-parallel {display: flex;align-items: stretch;justify-content: center;background-color: white;position: relative;}#sk-container-id-1 div.sk-item::before, #sk-container-id-1 div.sk-parallel-item::before {content: \"\";position: absolute;border-left: 1px solid gray;box-sizing: border-box;top: 0;bottom: 0;left: 50%;z-index: -1;}#sk-container-id-1 div.sk-parallel-item {display: flex;flex-direction: column;z-index: 1;position: relative;background-color: white;}#sk-container-id-1 div.sk-parallel-item:first-child::after {align-self: flex-end;width: 50%;}#sk-container-id-1 div.sk-parallel-item:last-child::after {align-self: flex-start;width: 50%;}#sk-container-id-1 div.sk-parallel-item:only-child::after {width: 0;}#sk-container-id-1 div.sk-dashed-wrapped {border: 1px dashed gray;margin: 0 0.4em 0.5em 0.4em;box-sizing: border-box;padding-bottom: 0.4em;background-color: white;}#sk-container-id-1 div.sk-label label {font-family: monospace;font-weight: bold;display: inline-block;line-height: 1.2em;}#sk-container-id-1 div.sk-label-container {text-align: center;}#sk-container-id-1 div.sk-container {/* jupyter's `normalize.less` sets `[hidden] { display: none; }` but bootstrap.min.css set `[hidden] { display: none !important; }` so we also need the `!important` here to be able to override the default hidden behavior on the sphinx rendered scikit-learn.org. See: https://github.com/scikit-learn/scikit-learn/issues/21755 */display: inline-block !important;position: relative;}#sk-container-id-1 div.sk-text-repr-fallback {display: none;}</style><div id=\"sk-container-id-1\" class=\"sk-top-container\"><div class=\"sk-text-repr-fallback\"><pre>MultinomialNB()</pre><b>In a Jupyter environment, please rerun this cell to show the HTML representation or trust the notebook. <br />On GitHub, the HTML representation is unable to render, please try loading this page with nbviewer.org.</b></div><div class=\"sk-container\" hidden><div class=\"sk-item\"><div class=\"sk-estimator sk-toggleable\"><input class=\"sk-toggleable__control sk-hidden--visually\" id=\"sk-estimator-id-1\" type=\"checkbox\" checked><label for=\"sk-estimator-id-1\" class=\"sk-toggleable__label sk-toggleable__label-arrow\">MultinomialNB</label><div class=\"sk-toggleable__content\"><pre>MultinomialNB()</pre></div></div></div></div></div>"
            ]
          },
          "metadata": {},
          "execution_count": 30
        }
      ]
    },
    {
      "cell_type": "code",
      "source": [
        "# Model Evaluation\n",
        "\n",
        "# # Evaluate the classifier on the test set\n",
        "# accuracy = clf.score(count_vectorizer.transform(test_df['preprocessed_text']), test_df['category'])\n",
        "# print(\"Accuracy on the test set:\", accuracy)\n",
        "\n",
        "# Preprocess text and extract features from the test set using the same vectorizers as the training set\n",
        "test_df['preprocessed_text'] = test_df['text'].apply(preprocess_text)\n",
        "X_test_tfidf = tfidf_vectorizer.transform(test_df['preprocessed_text'])\n",
        "\n",
        "# Evaluate the classifier on the test set\n",
        "accuracy = clf.score(X_test_tfidf, test_df['category'])\n",
        "print(\"Accuracy on the test set:\", accuracy)"
      ],
      "metadata": {
        "colab": {
          "base_uri": "https://localhost:8080/"
        },
        "id": "ghoLQTrCYS0V",
        "outputId": "d48d8ea9-23ba-4bf0-ad63-8792ba67f6c9"
      },
      "execution_count": 32,
      "outputs": [
        {
          "output_type": "stream",
          "name": "stdout",
          "text": [
            "Accuracy on the test set: 0.950561797752809\n"
          ]
        }
      ]
    }
  ]
}